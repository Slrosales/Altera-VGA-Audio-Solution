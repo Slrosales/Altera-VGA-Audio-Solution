{
  "nbformat": 4,
  "nbformat_minor": 0,
  "metadata": {
    "colab": {
      "provenance": [],
      "include_colab_link": true
    },
    "kernelspec": {
      "name": "python3",
      "display_name": "Python 3"
    }
  },
  "cells": [
    {
      "cell_type": "markdown",
      "metadata": {
        "id": "view-in-github",
        "colab_type": "text"
      },
      "source": [
        "<a href=\"https://colab.research.google.com/github/Slrosales/Altera-VGA-Audio-Solution/blob/main/VGA%20Solution/Componentes_RGB.ipynb\" target=\"_parent\"><img src=\"https://colab.research.google.com/assets/colab-badge.svg\" alt=\"Open In Colab\"/></a>"
      ]
    },
    {
      "cell_type": "markdown",
      "source": [
        "# Librerias"
      ],
      "metadata": {
        "id": "m2k1EQt2ayBp"
      }
    },
    {
      "cell_type": "code",
      "source": [
        "from google.colab import drive\n",
        "drive.mount('/content/drive')"
      ],
      "metadata": {
        "id": "uvMBGPybaz5X"
      },
      "execution_count": null,
      "outputs": []
    },
    {
      "cell_type": "code",
      "source": [
        "import os\n",
        "import numpy as np\n",
        "import imageio\n",
        "import matplotlib.pyplot as plt\n",
        "from PIL import Image"
      ],
      "metadata": {
        "id": "zQAGub2Qa4tg"
      },
      "execution_count": null,
      "outputs": []
    },
    {
      "cell_type": "markdown",
      "source": [
        "# Preparación de la imagen"
      ],
      "metadata": {
        "id": "RwRIQUYQbPAY"
      }
    },
    {
      "cell_type": "code",
      "metadata": {
        "id": "JMFi1te0ti3o",
        "colab": {
          "base_uri": "https://localhost:8080/"
        },
        "outputId": "196bad25-dcad-43ff-b63e-65cebd5c23a7"
      },
      "source": [
        "dirpath = os.getcwd()\n",
        "print(\"current directory is : \" + dirpath)\n",
        "\n",
        "foldername = os.path.basename(dirpath)\n",
        "print(\"Directory name is : \" + foldername)\n",
        "os.chdir(\"/content/drive/MyDrive/Estructura_del_Computador/Python\")\n",
        "\n",
        "dirpath = os.getcwd()\n",
        "print(\"current directory is : \" + dirpath)\n",
        "\n",
        "foldername = os.path.basename(dirpath)\n",
        "print(\"Directory name is : \" + foldername)"
      ],
      "execution_count": null,
      "outputs": [
        {
          "output_type": "stream",
          "name": "stdout",
          "text": [
            "current directory is : /content\n",
            "Directory name is : content\n",
            "current directory is : /content/drive/MyDrive/Estructura_del_Computador/Python\n",
            "Directory name is : Python\n"
          ]
        }
      ]
    },
    {
      "cell_type": "code",
      "metadata": {
        "id": "TKMzbz1igKSa"
      },
      "source": [
        "imagen = imageio.imread(os.path.join(dirpath,'Eduardo_Zurek_ejemplo.jpg'))\n",
        "\n",
        "im0 = Image.fromarray(imagen)\n",
        "im0 = im0.resize((128,128), Image.ANTIALIAS)\n",
        "imagen = np.asarray(im0,'uint8')\n",
        "im1 = Image.fromarray(imagen)\n",
        "im1 = im1.save(\"EZ_128.bmp\")"
      ],
      "execution_count": null,
      "outputs": []
    },
    {
      "cell_type": "code",
      "metadata": {
        "id": "P0igOtN1hY7g",
        "colab": {
          "base_uri": "https://localhost:8080/"
        },
        "outputId": "b6d90a55-8d18-4255-d324-6614465e8562"
      },
      "source": [
        "print(imagen.shape)\n",
        "\n",
        "red = imagen[:,:,0].flatten()\n",
        "print(red.shape)\n",
        "\n",
        "green = imagen[:,:,1].flatten()\n",
        "print(green.shape)\n",
        "\n",
        "blue = imagen[:,:,2].flatten()\n",
        "print(blue.shape)"
      ],
      "execution_count": null,
      "outputs": [
        {
          "output_type": "stream",
          "name": "stdout",
          "text": [
            "(128, 128, 3)\n",
            "(16384,)\n",
            "(16384,)\n",
            "(16384,)\n"
          ]
        }
      ]
    },
    {
      "cell_type": "code",
      "metadata": {
        "id": "W14fdL8uiZV8",
        "colab": {
          "base_uri": "https://localhost:8080/"
        },
        "outputId": "abe31a37-f435-44ae-aa1a-7fa269f62840"
      },
      "source": [
        "print(red[1:10])\n",
        "print(green[1:10])\n",
        "print(blue[1:10])"
      ],
      "execution_count": null,
      "outputs": [
        {
          "output_type": "stream",
          "name": "stdout",
          "text": [
            "[ 94  98 100 102  95  98  92  54  58]\n",
            "[142 139 143 148 143 142 142 132 143]\n",
            "[ 9  1  2  6  3  3 12 34 44]\n"
          ]
        }
      ]
    },
    {
      "cell_type": "code",
      "metadata": {
        "id": "crd5QU_4okZK"
      },
      "source": [
        "azul = np.uint8(blue)\n",
        "verde = np.uint8(green)\n",
        "rojo = np.uint8(red)\n",
        "representacion = np.uint16(rojo+verde+azul)"
      ],
      "execution_count": null,
      "outputs": []
    },
    {
      "cell_type": "code",
      "metadata": {
        "id": "EpdKm9ALBxya",
        "colab": {
          "base_uri": "https://localhost:8080/"
        },
        "outputId": "7d17d4f4-dfeb-45d8-9e75-c58c839a1183"
      },
      "source": [
        "print(bin(azul[0]))\n",
        "print(len(azul))\n",
        "for i in range(20):\n",
        "  print([hex(rojo[i]),bin(rojo[i]),hex(verde[i]),bin(verde[i]),hex(azul[i]),bin(azul[i])])"
      ],
      "execution_count": null,
      "outputs": [
        {
          "output_type": "stream",
          "name": "stdout",
          "text": [
            "0b1100\n",
            "16384\n",
            "['0x66', '0b1100110', '0x91', '0b10010001', '0xc', '0b1100']\n",
            "['0x5e', '0b1011110', '0x8e', '0b10001110', '0x9', '0b1001']\n",
            "['0x62', '0b1100010', '0x8b', '0b10001011', '0x1', '0b1']\n",
            "['0x64', '0b1100100', '0x8f', '0b10001111', '0x2', '0b10']\n",
            "['0x66', '0b1100110', '0x94', '0b10010100', '0x6', '0b110']\n",
            "['0x5f', '0b1011111', '0x8f', '0b10001111', '0x3', '0b11']\n",
            "['0x62', '0b1100010', '0x8e', '0b10001110', '0x3', '0b11']\n",
            "['0x5c', '0b1011100', '0x8e', '0b10001110', '0xc', '0b1100']\n",
            "['0x36', '0b110110', '0x84', '0b10000100', '0x22', '0b100010']\n",
            "['0x3a', '0b111010', '0x8f', '0b10001111', '0x2c', '0b101100']\n",
            "['0x4f', '0b1001111', '0x91', '0b10010001', '0x1c', '0b11100']\n",
            "['0x58', '0b1011000', '0x86', '0b10000110', '0x1f', '0b11111']\n",
            "['0xcc', '0b11001100', '0xad', '0b10101101', '0x3a', '0b111010']\n",
            "['0x6e', '0b1101110', '0x95', '0b10010101', '0x33', '0b110011']\n",
            "['0x28', '0b101000', '0x89', '0b10001001', '0x20', '0b100000']\n",
            "['0x31', '0b110001', '0x75', '0b1110101', '0x20', '0b100000']\n",
            "['0x2d', '0b101101', '0x61', '0b1100001', '0x20', '0b100000']\n",
            "['0x66', '0b1100110', '0x9b', '0b10011011', '0x15', '0b10101']\n",
            "['0x23', '0b100011', '0x64', '0b1100100', '0x39', '0b111001']\n",
            "['0x17', '0b10111', '0x68', '0b1101000', '0x4b', '0b1001011']\n"
          ]
        }
      ]
    },
    {
      "cell_type": "markdown",
      "source": [
        "# Salida"
      ],
      "metadata": {
        "id": "-WHxVwXobTgo"
      }
    },
    {
      "cell_type": "code",
      "metadata": {
        "id": "EyHRNIbtHJWF"
      },
      "source": [
        "f = open(\"salida_rojo.txt\",\"w\")\n",
        "c = 0\n",
        "for i in rojo:\n",
        "  if c % 16 == 0:\n",
        "    f.write(\"\\n\")\n",
        "  t = bin(i)\n",
        "  f.write('\"'+t[2:].rjust(8,'0')+'\",')\n",
        "  c=c+1\n",
        "f.close()"
      ],
      "execution_count": null,
      "outputs": []
    },
    {
      "cell_type": "code",
      "source": [
        "f = open(\"salida_azul.txt\",\"w\")\n",
        "c = 0\n",
        "for i in azul:\n",
        "  if c % 16 == 0:\n",
        "    f.write(\"\\n\")\n",
        "  t = bin(i)\n",
        "  f.write('\"'+t[2:].rjust(8,'0')+'\",')\n",
        "  c=c+1\n",
        "f.close()"
      ],
      "metadata": {
        "id": "MZeDua0Hn9Tq"
      },
      "execution_count": null,
      "outputs": []
    },
    {
      "cell_type": "code",
      "source": [
        "f = open(\"salida_verde.txt\",\"w\")\n",
        "c = 0\n",
        "for i in verde:\n",
        "  if c % 16 == 0:\n",
        "    f.write(\"\\n\")\n",
        "  t = bin(i)\n",
        "  f.write('\"'+t[2:].rjust(8,'0')+'\",')\n",
        "  c=c+1\n",
        "f.close()"
      ],
      "metadata": {
        "id": "FPzqCQPooE2g"
      },
      "execution_count": null,
      "outputs": []
    }
  ]
}